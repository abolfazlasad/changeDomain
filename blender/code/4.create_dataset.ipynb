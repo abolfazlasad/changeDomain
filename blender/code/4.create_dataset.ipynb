{
 "cells": [
  {
   "cell_type": "code",
   "execution_count": 8,
   "id": "0e7f74a4",
   "metadata": {},
   "outputs": [],
   "source": [
    "import os\n",
    "import subprocess\n",
    "from tqdm import tqdm"
   ]
  },
  {
   "cell_type": "code",
   "execution_count": 9,
   "id": "68a0bd5a",
   "metadata": {},
   "outputs": [],
   "source": [
    "cwd = os.getcwd()\n",
    "\n",
    "action_dir = f\"{cwd}/../data/action-mocap\"\n",
    "bvh_files_list = [f[:-4] for f in os.listdir(action_dir) if f.endswith(\".bvh\")]\n",
    "bvh_files_list = sorted(bvh_files_list)"
   ]
  },
  {
   "cell_type": "code",
   "execution_count": 10,
   "id": "f92ff60a",
   "metadata": {},
   "outputs": [
    {
     "name": "stderr",
     "output_type": "stream",
     "text": [
      "[4/4]: Remy_strutting_28_000: 100%|██████████| 572/572 [8:52:21<00:00, 55.84s/it]      \n"
     ]
    }
   ],
   "source": [
    "character_list = [\"Abe\", \"Amy\", \"Mousey\", \"Remy\"]\n",
    "\n",
    "env = os.environ.copy()\n",
    "\n",
    "pbar = tqdm(bvh_files_list)\n",
    "for bvh_file in pbar:\n",
    "    for ch_idx, character in enumerate(character_list):\n",
    "\n",
    "        env[\"MY_CHARACTER\"] = f\"{cwd}/../data/characters-mixamo-processed/{character}-T-Pose.blend\"\n",
    "        env[\"MY_ACTION\"]    = f\"{cwd}/../data/action-mocap/{bvh_file}.bvh\"\n",
    "        env[\"MY_OUTPUT\"]    = f\"{cwd}/../output/Dataset_v0/{character}_{bvh_file}.mp4\"\n",
    "\n",
    "        if os.path.exists(env[\"MY_OUTPUT\"]):\n",
    "            continue\n",
    "\n",
    "        pbar.set_description(f\"[{ch_idx+1}/{len(character_list)}]: {character}_{bvh_file}\")\n",
    "\n",
    "        command = [\n",
    "            \"blender\",\n",
    "            \"--background\",\n",
    "            \"--python\", f\"{cwd}/3.retarget_mocap_to_mixCharacter.py\"\n",
    "        ]\n",
    "\n",
    "        result = subprocess.run(command, env=env)\n",
    "        # result = subprocess.run(command, env=env, capture_output=True, text=True)\n"
   ]
  }
 ],
 "metadata": {
  "kernelspec": {
   "display_name": "Python 3",
   "language": "python",
   "name": "python3"
  },
  "language_info": {
   "codemirror_mode": {
    "name": "ipython",
    "version": 3
   },
   "file_extension": ".py",
   "mimetype": "text/x-python",
   "name": "python",
   "nbconvert_exporter": "python",
   "pygments_lexer": "ipython3",
   "version": "3.8.10"
  }
 },
 "nbformat": 4,
 "nbformat_minor": 5
}
